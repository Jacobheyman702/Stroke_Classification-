{
 "cells": [
  {
   "cell_type": "code",
   "execution_count": 12,
   "metadata": {},
   "outputs": [
    {
     "ename": "ModuleNotFoundError",
     "evalue": "No module named 'lazypredict.Supervised'",
     "output_type": "error",
     "traceback": [
      "\u001b[0;31m---------------------------------------------------------------------------\u001b[0m",
      "\u001b[0;31mModuleNotFoundError\u001b[0m                       Traceback (most recent call last)",
      "\u001b[0;32m<ipython-input-12-0fd8853e52c5>\u001b[0m in \u001b[0;36m<module>\u001b[0;34m\u001b[0m\n\u001b[1;32m      5\u001b[0m \u001b[0;32mfrom\u001b[0m \u001b[0msklearn\u001b[0m\u001b[0;34m.\u001b[0m\u001b[0mmetrics\u001b[0m \u001b[0;32mimport\u001b[0m \u001b[0maccuracy_score\u001b[0m\u001b[0;34m\u001b[0m\u001b[0;34m\u001b[0m\u001b[0m\n\u001b[1;32m      6\u001b[0m \u001b[0;32mimport\u001b[0m \u001b[0mlazypredict\u001b[0m\u001b[0;34m\u001b[0m\u001b[0;34m\u001b[0m\u001b[0m\n\u001b[0;32m----> 7\u001b[0;31m \u001b[0;32mfrom\u001b[0m \u001b[0mlazypredict\u001b[0m\u001b[0;34m.\u001b[0m\u001b[0mSupervised\u001b[0m \u001b[0;32mimport\u001b[0m \u001b[0mLazyClassifier\u001b[0m\u001b[0;34m\u001b[0m\u001b[0;34m\u001b[0m\u001b[0m\n\u001b[0m",
      "\u001b[0;31mModuleNotFoundError\u001b[0m: No module named 'lazypredict.Supervised'"
     ]
    }
   ],
   "source": [
    "import pyforest\n",
    "import warnings\n",
    "warnings.filterwarnings(\"ignore\")\n",
    "from sklearn import metrics\n",
    "from sklearn.metrics import accuracy_score\n",
    "import lazypredict\n",
    "from lazypredict.Supervised import LazyClassifier "
   ]
  },
  {
   "cell_type": "code",
   "execution_count": 2,
   "metadata": {
    "scrolled": true
   },
   "outputs": [
    {
     "name": "stdout",
     "output_type": "stream",
     "text": [
      "['/Users/heymanjake/Documents/Flatiron/Stroke_classifier', '/Users/heymanjake/opt/anaconda3/lib/python38.zip', '/Users/heymanjake/opt/anaconda3/lib/python3.8', '/Users/heymanjake/opt/anaconda3/lib/python3.8/lib-dynload', '', '/Users/heymanjake/opt/anaconda3/lib/python3.8/site-packages', '/Users/heymanjake/opt/anaconda3/lib/python3.8/site-packages/IPython/extensions', '/Users/heymanjake/.ipython']\n"
     ]
    }
   ],
   "source": [
    "import sys\n",
    "print(sys.path)\n"
   ]
  },
  {
   "cell_type": "code",
   "execution_count": 9,
   "metadata": {},
   "outputs": [
    {
     "name": "stdout",
     "output_type": "stream",
     "text": [
      "Requirement already satisfied: lazypredict in /Users/heymanjake/opt/anaconda3/lib/python3.8/site-packages (0.2.9)\n",
      "Requirement already satisfied: xgboost==1.1.1 in /Users/heymanjake/opt/anaconda3/lib/python3.8/site-packages (from lazypredict) (1.1.1)\n",
      "Requirement already satisfied: tqdm==4.56.0 in /Users/heymanjake/opt/anaconda3/lib/python3.8/site-packages (from lazypredict) (4.56.0)\n",
      "Requirement already satisfied: pytest==5.4.3 in /Users/heymanjake/opt/anaconda3/lib/python3.8/site-packages (from lazypredict) (5.4.3)\n",
      "Requirement already satisfied: click==7.1.2 in /Users/heymanjake/opt/anaconda3/lib/python3.8/site-packages (from lazypredict) (7.1.2)\n",
      "Requirement already satisfied: joblib==1.0.0 in /Users/heymanjake/opt/anaconda3/lib/python3.8/site-packages (from lazypredict) (1.0.0)\n",
      "Requirement already satisfied: PyYAML==5.3.1 in /Users/heymanjake/opt/anaconda3/lib/python3.8/site-packages (from lazypredict) (5.3.1)\n",
      "Requirement already satisfied: scikit-learn==0.23.1 in /Users/heymanjake/opt/anaconda3/lib/python3.8/site-packages (from lazypredict) (0.23.1)\n",
      "Requirement already satisfied: scipy==1.5.4 in /Users/heymanjake/opt/anaconda3/lib/python3.8/site-packages (from lazypredict) (1.5.4)\n",
      "Requirement already satisfied: lightgbm==2.3.1 in /Users/heymanjake/opt/anaconda3/lib/python3.8/site-packages (from lazypredict) (2.3.1)\n",
      "Requirement already satisfied: six==1.15.0 in /Users/heymanjake/opt/anaconda3/lib/python3.8/site-packages (from lazypredict) (1.15.0)\n",
      "Requirement already satisfied: pandas==1.0.5 in /Users/heymanjake/opt/anaconda3/lib/python3.8/site-packages (from lazypredict) (1.0.5)\n",
      "Requirement already satisfied: numpy==1.19.1 in /Users/heymanjake/opt/anaconda3/lib/python3.8/site-packages (from lazypredict) (1.19.1)\n",
      "Requirement already satisfied: attrs>=17.4.0 in /Users/heymanjake/opt/anaconda3/lib/python3.8/site-packages (from pytest==5.4.3->lazypredict) (20.3.0)\n",
      "Requirement already satisfied: pluggy<1.0,>=0.12 in /Users/heymanjake/opt/anaconda3/lib/python3.8/site-packages (from pytest==5.4.3->lazypredict) (0.13.1)\n",
      "Requirement already satisfied: wcwidth in /Users/heymanjake/opt/anaconda3/lib/python3.8/site-packages (from pytest==5.4.3->lazypredict) (0.2.5)\n",
      "Requirement already satisfied: py>=1.5.0 in /Users/heymanjake/opt/anaconda3/lib/python3.8/site-packages (from pytest==5.4.3->lazypredict) (1.10.0)\n",
      "Requirement already satisfied: packaging in /Users/heymanjake/opt/anaconda3/lib/python3.8/site-packages (from pytest==5.4.3->lazypredict) (20.4)\n",
      "Requirement already satisfied: more-itertools>=4.0.0 in /Users/heymanjake/opt/anaconda3/lib/python3.8/site-packages (from pytest==5.4.3->lazypredict) (8.7.0)\n",
      "Requirement already satisfied: threadpoolctl>=2.0.0 in /Users/heymanjake/opt/anaconda3/lib/python3.8/site-packages (from scikit-learn==0.23.1->lazypredict) (2.1.0)\n",
      "Requirement already satisfied: pytz>=2017.2 in /Users/heymanjake/opt/anaconda3/lib/python3.8/site-packages (from pandas==1.0.5->lazypredict) (2020.1)\n",
      "Requirement already satisfied: python-dateutil>=2.6.1 in /Users/heymanjake/opt/anaconda3/lib/python3.8/site-packages (from pandas==1.0.5->lazypredict) (2.8.1)\n",
      "Requirement already satisfied: pyparsing>=2.0.2 in /Users/heymanjake/opt/anaconda3/lib/python3.8/site-packages (from packaging->pytest==5.4.3->lazypredict) (2.4.7)\n"
     ]
    }
   ],
   "source": [
    "!pip install lazypredict"
   ]
  },
  {
   "cell_type": "code",
   "execution_count": 8,
   "metadata": {},
   "outputs": [
    {
     "ename": "ImportError",
     "evalue": "cannot import name 'LazyClassifier' from 'lazypredict' (/Users/heymanjake/opt/anaconda3/lib/python3.8/site-packages/lazypredict/__init__.py)",
     "output_type": "error",
     "traceback": [
      "\u001b[0;31m---------------------------------------------------------------------------\u001b[0m",
      "\u001b[0;31mImportError\u001b[0m                               Traceback (most recent call last)",
      "\u001b[0;32m<ipython-input-8-d4ca672cbbfb>\u001b[0m in \u001b[0;36m<module>\u001b[0;34m\u001b[0m\n\u001b[0;32m----> 1\u001b[0;31m \u001b[0;32mfrom\u001b[0m \u001b[0mlazypredict\u001b[0m \u001b[0;32mimport\u001b[0m \u001b[0mLazyClassifier\u001b[0m\u001b[0;34m\u001b[0m\u001b[0;34m\u001b[0m\u001b[0m\n\u001b[0m",
      "\u001b[0;31mImportError\u001b[0m: cannot import name 'LazyClassifier' from 'lazypredict' (/Users/heymanjake/opt/anaconda3/lib/python3.8/site-packages/lazypredict/__init__.py)"
     ]
    }
   ],
   "source": []
  },
  {
   "cell_type": "code",
   "execution_count": null,
   "metadata": {},
   "outputs": [],
   "source": [
    "df = pd.read_csv('healthcare-dataset-stroke-data.csv')"
   ]
  },
  {
   "cell_type": "code",
   "execution_count": null,
   "metadata": {},
   "outputs": [],
   "source": [
    "df.head()"
   ]
  },
  {
   "cell_type": "code",
   "execution_count": null,
   "metadata": {},
   "outputs": [],
   "source": [
    "df.shape"
   ]
  },
  {
   "cell_type": "code",
   "execution_count": null,
   "metadata": {},
   "outputs": [],
   "source": [
    "df.dtypes"
   ]
  },
  {
   "cell_type": "code",
   "execution_count": null,
   "metadata": {},
   "outputs": [],
   "source": [
    "df.isna().sum()"
   ]
  },
  {
   "cell_type": "code",
   "execution_count": null,
   "metadata": {},
   "outputs": [],
   "source": [
    "df.bmi.value_counts(sort=True)"
   ]
  },
  {
   "cell_type": "code",
   "execution_count": null,
   "metadata": {},
   "outputs": [],
   "source": [
    "df.dropna(inplace=True)"
   ]
  },
  {
   "cell_type": "code",
   "execution_count": null,
   "metadata": {},
   "outputs": [],
   "source": [
    "df.isna().sum()"
   ]
  },
  {
   "cell_type": "code",
   "execution_count": null,
   "metadata": {},
   "outputs": [],
   "source": [
    "pd.plotting.scatter_matrix(df, figsize = [30,30]);\n",
    "plt.show()"
   ]
  },
  {
   "cell_type": "code",
   "execution_count": null,
   "metadata": {},
   "outputs": [],
   "source": [
    "df.age.value_counts()"
   ]
  },
  {
   "cell_type": "code",
   "execution_count": null,
   "metadata": {},
   "outputs": [],
   "source": [
    "df.columns"
   ]
  },
  {
   "cell_type": "code",
   "execution_count": null,
   "metadata": {},
   "outputs": [],
   "source": [
    "df[['id', 'gender', 'age', 'hypertension', 'heart_disease', 'ever_married',\n",
    "       'work_type', 'Residence_type', 'avg_glucose_level', 'bmi',\n",
    "       'smoking_status', 'stroke']].nunique()"
   ]
  },
  {
   "cell_type": "code",
   "execution_count": null,
   "metadata": {},
   "outputs": [],
   "source": [
    "df.gender.value_counts()"
   ]
  },
  {
   "cell_type": "code",
   "execution_count": null,
   "metadata": {},
   "outputs": [],
   "source": [
    "df.hist(bins=50, figsize=(20,15))\n",
    "plt.show()"
   ]
  },
  {
   "cell_type": "code",
   "execution_count": null,
   "metadata": {},
   "outputs": [],
   "source": [
    "['id', 'gender', 'age', 'hypertension', 'heart_disease', 'ever_married',\n",
    "       'work_type', 'Residence_type', 'avg_glucose_level', 'bmi',\n",
    "       'smoking_status', 'stroke']"
   ]
  },
  {
   "cell_type": "code",
   "execution_count": null,
   "metadata": {},
   "outputs": [],
   "source": [
    "df.describe()"
   ]
  },
  {
   "cell_type": "code",
   "execution_count": null,
   "metadata": {},
   "outputs": [],
   "source": [
    "stroke_pred = df.drop(['id','stroke'],1)"
   ]
  },
  {
   "cell_type": "code",
   "execution_count": null,
   "metadata": {},
   "outputs": [],
   "source": [
    "stroke_pred.head()"
   ]
  },
  {
   "cell_type": "code",
   "execution_count": null,
   "metadata": {},
   "outputs": [],
   "source": [
    "pd.plotting.scatter_matrix(stroke_pred, figsize = [30,30]);\n",
    "plt.show()"
   ]
  },
  {
   "cell_type": "code",
   "execution_count": null,
   "metadata": {},
   "outputs": [],
   "source": [
    "stroke_pred.corr()"
   ]
  },
  {
   "cell_type": "code",
   "execution_count": null,
   "metadata": {},
   "outputs": [],
   "source": [
    "sns.heatmap(stroke_pred.corr(), center=0);"
   ]
  },
  {
   "cell_type": "code",
   "execution_count": null,
   "metadata": {},
   "outputs": [],
   "source": [
    "sns.set_style('darkgrid')\n",
    "plt.figure(figsize = (10,5))\n",
    "sns.countplot(df['stroke'], alpha = 1, palette= ['aquamarine','magenta'])\n",
    "plt.title('Stroke Class')\n",
    "plt.ylabel('Patients')\n",
    "\n",
    "plt.show()"
   ]
  },
  {
   "cell_type": "code",
   "execution_count": null,
   "metadata": {},
   "outputs": [],
   "source": [
    "X = stroke_pred\n",
    "y= df.stroke\n",
    "\n",
    "X_train, X_test, y_train, y_test = train_test_split(X, y, random_state=1)"
   ]
  },
  {
   "cell_type": "code",
   "execution_count": null,
   "metadata": {},
   "outputs": [],
   "source": []
  }
 ],
 "metadata": {
  "kernelspec": {
   "display_name": "Python 3",
   "language": "python",
   "name": "python3"
  },
  "language_info": {
   "codemirror_mode": {
    "name": "ipython",
    "version": 3
   },
   "file_extension": ".py",
   "mimetype": "text/x-python",
   "name": "python",
   "nbconvert_exporter": "python",
   "pygments_lexer": "ipython3",
   "version": "3.8.3"
  }
 },
 "nbformat": 4,
 "nbformat_minor": 4
}
